{
 "cells": [
  {
   "cell_type": "code",
   "execution_count": 1,
   "metadata": {},
   "outputs": [
    {
     "name": "stdout",
     "output_type": "stream",
     "text": [
      "WARNING:tensorflow:From c:\\Users\\habib\\Documents\\anaconda\\Lib\\site-packages\\keras\\src\\losses.py:2976: The name tf.losses.sparse_softmax_cross_entropy is deprecated. Please use tf.compat.v1.losses.sparse_softmax_cross_entropy instead.\n",
      "\n"
     ]
    }
   ],
   "source": [
    "import torch\n",
    "import torch.nn as nn\n",
    "import torch.optim as optim\n",
    "import pandas as pd\n",
    "import numpy as np\n",
    "import matplotlib.pyplot as plt\n",
    "import seaborn as sns\n",
    "import ot\n",
    "import os\n",
    "import sys\n",
    "from sklearn.model_selection import train_test_split"
   ]
  },
  {
   "cell_type": "markdown",
   "metadata": {},
   "source": [
    "## Prepare the data"
   ]
  },
  {
   "cell_type": "code",
   "execution_count": 2,
   "metadata": {},
   "outputs": [],
   "source": [
    "# Read in the data\n",
    "df40 = pd.read_csv('data/station_40.csv', index_col=0)\n",
    "df49 = pd.read_csv('data/station_49.csv', index_col=0)\n",
    "df63 = pd.read_csv('data/station_63.csv', index_col=0)\n",
    "df80 = pd.read_csv('data/station_80.csv', index_col=0)"
   ]
  },
  {
   "cell_type": "code",
   "execution_count": 3,
   "metadata": {},
   "outputs": [],
   "source": [
    "df40.columns = df40.columns.to_numpy() + '_s40'\n",
    "df49.columns = df49.columns.to_numpy() + '_s49'\n",
    "df63.columns = df63.columns.to_numpy() + '_s63'\n",
    "df80.columns = df80.columns.to_numpy() + '_s80'"
   ]
  },
  {
   "cell_type": "code",
   "execution_count": 4,
   "metadata": {},
   "outputs": [],
   "source": [
    "data = pd.concat([df40, df49, df63, df80], axis=1)\n",
    "data = data.reindex(columns=sorted(data.columns))"
   ]
  },
  {
   "cell_type": "code",
   "execution_count": 5,
   "metadata": {},
   "outputs": [],
   "source": [
    "T_times = list(range(1,10))\n",
    "T = 0\n",
    "for i in T_times:\n",
    "    T += data[f'W_{i}_s40']+data[f'W_{i}_s49']+data[f'W_{i}_s63']+data[f'W_{i}_s80']\n",
    "T /= 4*len(T_times)"
   ]
  },
  {
   "cell_type": "code",
   "execution_count": 6,
   "metadata": {},
   "outputs": [],
   "source": [
    "data['T'] = T"
   ]
  },
  {
   "cell_type": "code",
   "execution_count": 7,
   "metadata": {},
   "outputs": [],
   "source": [
    "R_times = list(range(13,16))\n",
    "R = 0\n",
    "for i in R_times:\n",
    "    R += data[f'W_{i}_s40']+data[f'W_{i}_s49']+data[f'W_{i}_s63']+data[f'W_{i}_s80']\n",
    "R /= 4*len(R_times)"
   ]
  },
  {
   "cell_type": "code",
   "execution_count": 8,
   "metadata": {},
   "outputs": [],
   "source": [
    "data['R'] = R"
   ]
  },
  {
   "cell_type": "code",
   "execution_count": 9,
   "metadata": {},
   "outputs": [],
   "source": [
    "#Separate the data for each scenario\n",
    "Scenarios = list(range(1,10))\n",
    "data_scenarios = []\n",
    "Ts = [-np.inf, 21.2, 22, np.inf]\n",
    "Rs = [-np.inf, 1.8, 2.2, np.inf]\n",
    "for i in range(len(Rs)-1):\n",
    "    for j in range(len(Ts)-1):\n",
    "        data_scenarios.append(data[(data['R'] > Rs[i]) & (data['R'] < Rs[i+1]) & (data['T'] > Ts[j]) & (data['T'] < Ts[j+1])])"
   ]
  },
  {
   "cell_type": "code",
   "execution_count": 10,
   "metadata": {},
   "outputs": [],
   "source": [
    "Yield_scenarios = [data_scenarios[i][[\"YIELD_s40\", \"YIELD_s49\", \"YIELD_s63\", \"YIELD_s80\"]] for i in range(len(data_scenarios))]"
   ]
  },
  {
   "cell_type": "code",
   "execution_count": 11,
   "metadata": {},
   "outputs": [],
   "source": [
    "Y_scenarios = [Yield_scenarios[i].to_numpy() for i in range(len(Yield_scenarios))]"
   ]
  },
  {
   "cell_type": "code",
   "execution_count": 12,
   "metadata": {},
   "outputs": [
    {
     "name": "stdout",
     "output_type": "stream",
     "text": [
      "[10.08390086  5.88592672  0.53159483  5.15767241]\n",
      "[6.11390086 7.38407328 1.87840517 3.94232759]\n",
      "[10.10431783  5.83269767  2.24388372  6.44448062]\n",
      "[7.20431783 6.60730233 3.59611628 6.45551938]\n",
      "[9.89976758 5.96965435 4.81159714 7.32730036]\n",
      "[5.98976758 5.91034565 9.22840286 8.42269964]\n",
      "[11.54636704  6.71016854  0.60088015  5.67779026]\n",
      "[7.50636704 6.59983146 1.96911985 5.67779026]\n",
      "[11.46702552  6.74348485  2.41102871  7.34082935]\n",
      "[6.98702552 6.38651515 3.75897129 7.34082935]\n",
      "[11.27729205  6.8071719   5.30195933  8.62778189]\n",
      "[6.54729205 6.8071719  8.77804067 8.62778189]\n",
      "[12.79460775  8.07350546  0.55963257  6.18543198]\n",
      "[8.73460775 7.26649454 2.20036743 4.75456802]\n",
      "[12.71598817  7.79389349  2.5603787   8.36084615]\n",
      "[8.27598817 7.95610651 3.1596213  8.36084615]\n",
      "[12.4969031   7.56287712  5.43201798  9.66476523]\n",
      "[7.4169031  7.44712288 7.24798202 9.66476523]\n"
     ]
    }
   ],
   "source": [
    "def correction(Y):\n",
    "    Y_centered = Y - np.mean(Y, axis=0)\n",
    "    Y_corrected = Y_centered / np.max(abs(Y_centered), axis=0)\n",
    "    print(np.mean(Y, axis=0))\n",
    "    print(np.max(abs(Y_centered), axis=0))\n",
    "    return Y_corrected\n",
    "\n",
    "Y_corrected_scenarios = [correction(Y_scenarios[i]) for i in range(len(Y_scenarios))]"
   ]
  },
  {
   "cell_type": "code",
   "execution_count": 71,
   "metadata": {},
   "outputs": [],
   "source": [
    "# Create the label column\n",
    "labels = np.repeat(np.arange(len(Y_corrected_scenarios)), [len(Y_corrected_scenarios[i]) for i in range(len(Y_corrected_scenarios))])\n"
   ]
  },
  {
   "cell_type": "code",
   "execution_count": 72,
   "metadata": {},
   "outputs": [],
   "source": [
    "concatenated_vectors = np.concatenate(Y_corrected_scenarios, axis=0)"
   ]
  },
  {
   "cell_type": "code",
   "execution_count": 73,
   "metadata": {},
   "outputs": [
    {
     "data": {
      "text/plain": [
       "(10000, 4)"
      ]
     },
     "execution_count": 73,
     "metadata": {},
     "output_type": "execute_result"
    }
   ],
   "source": [
    "concatenated_vectors.shape"
   ]
  },
  {
   "cell_type": "code",
   "execution_count": 74,
   "metadata": {},
   "outputs": [],
   "source": [
    "labels = labels.reshape(10000,1)"
   ]
  },
  {
   "cell_type": "code",
   "execution_count": 75,
   "metadata": {},
   "outputs": [],
   "source": [
    "Y_labeled = np.concatenate([concatenated_vectors,labels], axis=1)"
   ]
  },
  {
   "cell_type": "code",
   "execution_count": 13,
   "metadata": {},
   "outputs": [],
   "source": [
    "def dist(X,Y,n_projections=1000):\n",
    "    n = len(Y)\n",
    "    a, b = np.ones((n,)) / n, np.ones((n,)) / n  # uniform distribution on samples\n",
    "\n",
    "    l = ot.sliced_wasserstein_distance(X, Y, a, b, n_projections, seed=np.array(range(50)))\n",
    "    return np.mean(l)"
   ]
  },
  {
   "cell_type": "code",
   "execution_count": 41,
   "metadata": {},
   "outputs": [
    {
     "name": "stdout",
     "output_type": "stream",
     "text": [
      "Train set shapes: [(348, 4), (967, 4), (1258, 4), (400, 4), (940, 4), (811, 4), (755, 4), (1267, 4), (750, 4)]\n",
      "Test set shapes: [(116, 4), (323, 4), (420, 4), (134, 4), (314, 4), (271, 4), (252, 4), (423, 4), (251, 4)]\n"
     ]
    }
   ],
   "source": [
    "def split(Y):\n",
    "    Ytrain, Ytest = train_test_split(Y, test_size=0.25)\n",
    "    return Ytrain, Ytest\n",
    "\n",
    "# Split the data into train and test sets\n",
    "Ytrain_test_scenarios = [split(Y_corrected_scenarios[i]) for i in range(len(Y_corrected_scenarios))]\n",
    "\n",
    "# Print the shapes of the train and test sets\n",
    "print(\"Train set shapes:\", [Ytrain_test_scenarios[i][0].shape for i in range(len(Ytrain_test_scenarios))])\n",
    "print(\"Test set shapes:\", [Ytrain_test_scenarios[i][1].shape for i in range(len(Ytrain_test_scenarios))])"
   ]
  },
  {
   "cell_type": "code",
   "execution_count": 62,
   "metadata": {},
   "outputs": [
    {
     "data": {
      "text/plain": [
       "device(type='cpu')"
      ]
     },
     "execution_count": 62,
     "metadata": {},
     "output_type": "execute_result"
    }
   ],
   "source": [
    "device = torch.device(\"cuda\" if torch.cuda.is_available() else \"cpu\")\n",
    "device"
   ]
  },
  {
   "cell_type": "markdown",
   "metadata": {},
   "source": [
    "# GENERATION"
   ]
  },
  {
   "cell_type": "markdown",
   "metadata": {},
   "source": [
    "## Torch"
   ]
  },
  {
   "cell_type": "code",
   "execution_count": 98,
   "metadata": {},
   "outputs": [],
   "source": [
    "import torch\n",
    "import torch.nn as nn\n",
    "import torch.optim as optim\n",
    "\n",
    "class Generator(nn.Module):\n",
    "    def __init__(self, latent_dim, output_dim, num_classes, embedding_dim):\n",
    "        super(Generator, self).__init__()\n",
    "        self.latent_dim = latent_dim\n",
    "        self.num_classes = num_classes\n",
    "        \n",
    "        self.label_emb = nn.Embedding(num_classes, embedding_dim)\n",
    "        \n",
    "        self.model = nn.Sequential(\n",
    "            nn.Linear(latent_dim + embedding_dim, 128),\n",
    "            nn.LeakyReLU(0.01),\n",
    "            nn.BatchNorm1d(128, momentum=0.8),\n",
    "            nn.Linear(128, 256),\n",
    "            nn.LeakyReLU(0.01),\n",
    "            nn.BatchNorm1d(256, momentum=0.8),\n",
    "            nn.Linear(256, 512),\n",
    "            nn.LeakyReLU(0.01),\n",
    "            nn.BatchNorm1d(512, momentum=0.8),\n",
    "            nn.Linear(512, output_dim),\n",
    "            nn.Softplus()\n",
    "        )\n",
    "\n",
    "    def forward(self, x, labels):\n",
    "        emb = self.label_emb(labels)\n",
    "        x = torch.cat([x, emb], dim=1)\n",
    "        return self.model(x)\n",
    "\n",
    "class Discriminator(nn.Module):\n",
    "    def __init__(self, input_dim, num_classes, embedding_dim):\n",
    "        super(Discriminator, self).__init__()\n",
    "        self.num_classes = num_classes\n",
    "        \n",
    "        self.label_emb = nn.Embedding(num_classes, embedding_dim)\n",
    "        \n",
    "        self.model = nn.Sequential(\n",
    "            nn.Linear(input_dim + embedding_dim, 512),\n",
    "            nn.LeakyReLU(0.01),\n",
    "            nn.Linear(512, 256),\n",
    "            nn.LeakyReLU(0.01),\n",
    "            nn.Linear(256, 128),\n",
    "            nn.LeakyReLU(0.01),\n",
    "            nn.Linear(128, 1),\n",
    "            nn.Sigmoid()\n",
    "        )\n",
    "\n",
    "    def forward(self, x, labels):\n",
    "        emb = self.label_emb(labels)\n",
    "        x = torch.cat([x, emb], dim=1)\n",
    "        return self.model(x)\n",
    "\n",
    "class GAN(nn.Module):\n",
    "    def __init__(self, generator, discriminator):\n",
    "        super(GAN, self).__init__()\n",
    "        self.generator = generator\n",
    "        self.discriminator = discriminator\n",
    "\n",
    "    def forward(self, noise, labels):\n",
    "        gen_output = self.generator(noise, labels)\n",
    "        disc_output = self.discriminator(gen_output, labels)\n",
    "        return gen_output, disc_output\n",
    "\n",
    "def compile_discriminator(discriminator, learning_rate=0.0001, beta_1=0.5):\n",
    "    optimizer = optim.Adam(discriminator.parameters(), lr=learning_rate, betas=(beta_1, 0.90))\n",
    "    criterion = nn.BCELoss()\n",
    "    return optimizer, criterion\n",
    "\n",
    "def compile_gan(gan, learning_rate=0.0001, beta_1=0.5):\n",
    "    optimizer = optim.Adam(gan.generator.parameters(), lr=learning_rate, betas=(beta_1, 0.90))\n",
    "    criterion = nn.BCELoss()\n",
    "    return optimizer, criterion\n",
    "\n",
    "def generate_noise(samples, latent_dim):\n",
    "    return torch.randn(samples, latent_dim)\n",
    "\n",
    "def generate_data(generator, samples, latent_dim, num_classes):\n",
    "    noise = generate_noise(samples, latent_dim)\n",
    "    labels = torch.randint(0, num_classes, (samples,))\n",
    "    generated_data = generator(noise, labels)\n",
    "    return torch.Tensor.cpu(generated_data.detach()).numpy()\n",
    "\n",
    "def plot_generated_data(real_data, generated_data):\n",
    "    # Plotting code for 2D data\n",
    "    pass\n",
    "\n",
    "def run(epochs,real_data,batch_size,latent_dim,generator,d_optimizer,d_criterion,discriminator,gan,gan_optimizer,gan_criterion,test,show = True):\n",
    "    savlossD = []\n",
    "    savlossW = []\n",
    "    savlossG = []\n",
    "\n",
    "    # Training loop\n",
    "    for epoch in range(epochs):\n",
    "        # Train discriminator\n",
    "        idxs = torch.randperm(real_data.shape[0])\n",
    "        for i in range(0, real_data.shape[0]-76, batch_size):\n",
    "            idx = idxs[i:i+batch_size]\n",
    "            real_samples = torch.FloatTensor(real_data[idx, :-1]).to(device)  # Exclude labels column\n",
    "            real_labels = torch.tensor(real_data[idx, -1], dtype = torch.int).to(device)  # Get labels\n",
    "            fake_labels = torch.randint(0, 9, (batch_size,)).to(device)\n",
    "            noise = generate_noise(batch_size, latent_dim).to(device)\n",
    "            fake_samples = generator(noise, fake_labels)\n",
    "            \n",
    "            d_optimizer.zero_grad()\n",
    "            d_loss_real = d_criterion(discriminator(real_samples, real_labels), torch.ones(batch_size, 1).to(device))\n",
    "            d_loss_fake = d_criterion(discriminator(fake_samples.detach(), fake_labels), torch.zeros(batch_size, 1).to(device))\n",
    "            d_loss = 0.5 * (d_loss_real + d_loss_fake)\n",
    "            d_loss.backward()\n",
    "            d_optimizer.step()\n",
    "\n",
    "            # Train generator\n",
    "            z_input = generate_noise(batch_size, latent_dim).to(device)\n",
    "            label_input = torch.randint(0, 9, (batch_size,)).to(device)  # Generate random labels\n",
    "\n",
    "            gan_optimizer.zero_grad()\n",
    "            g_loss = gan_criterion(gan(z_input, label_input)[1], torch.ones(batch_size, 1).to(device))\n",
    "            g_loss.backward()\n",
    "            gan_optimizer.step()\n",
    "\n",
    "        if show:\n",
    "            # Print progress and plot generated data every 100 epochs\n",
    "            if epoch % 100 == 0:\n",
    "                print(f\"Epoch {epoch}, D Loss: {d_loss.item()}, G Loss: {g_loss.item()}\")\n",
    "                savlossD.append(d_loss.item())\n",
    "                savlossG.append(g_loss.item())\n",
    "                generated_data = generate_data(generator, 500, latent_dim, 9)\n",
    "                plot_generated_data(real_data[:, :-1], generated_data)\n",
    "                generated_data = generate_data(generator, test.shape[0], latent_dim, 9)\n",
    "                w = dist(test[:, :-1], generated_data)\n",
    "                savlossW.append(w)\n",
    "                print(w)\n",
    "    if not(show):\n",
    "        generated_data = generate_data(generator, test.shape[0], latent_dim, 9)\n",
    "        w = dist(test[:, :-1], generated_data)\n",
    "        print(w)\n",
    "        return w\n",
    "    else:\n",
    "        return savlossD, savlossG, savlossW\n",
    "\n",
    "def defineandtrain(real_data, test, latent_dim=40, epochs=400, show=True, num_classes=9, embedding_dim=50):\n",
    "    # Hyperparameters\n",
    "    batch_size = 128\n",
    "\n",
    "    # Initialize models\n",
    "    generator = Generator(latent_dim, real_data.shape[1] - 1, num_classes, embedding_dim).to(device)\n",
    "    discriminator = Discriminator(real_data.shape[1] - 1, num_classes, embedding_dim).to(device)\n",
    "    gan = GAN(generator, discriminator).to(device)\n",
    "\n",
    "    # Compile models\n",
    "    d_optimizer, d_criterion = compile_discriminator(discriminator)\n",
    "    gan_optimizer, gan_criterion = compile_gan(gan)\n",
    "    return run(epochs, real_data, batch_size, latent_dim, generator, d_optimizer, d_criterion, discriminator, gan, gan_optimizer, gan_criterion, test, show)\n"
   ]
  },
  {
   "cell_type": "code",
   "execution_count": 100,
   "metadata": {},
   "outputs": [
    {
     "name": "stdout",
     "output_type": "stream",
     "text": [
      "Epoch 0, D Loss: 0.5160949230194092, G Loss: 0.9612722992897034\n",
      "0.6906093476640326\n"
     ]
    }
   ],
   "source": [
    "Y_train, Y_test = train_test_split(Y_labeled, test_size=0.25)\n",
    "D,G,W = defineandtrain(Y_train,Y_test,latent_dim=50, epochs = 1000)"
   ]
  },
  {
   "cell_type": "code",
   "execution_count": 104,
   "metadata": {},
   "outputs": [
    {
     "data": {
      "text/plain": [
       "[0.6906093476640326]"
      ]
     },
     "execution_count": 104,
     "metadata": {},
     "output_type": "execute_result"
    }
   ],
   "source": [
    "W"
   ]
  },
  {
   "cell_type": "code",
   "execution_count": 94,
   "metadata": {},
   "outputs": [
    {
     "data": {
      "image/png": "[encoded data removed]",
      "text/plain": [
       "<Figure size 640x480 with 1 Axes>"
      ]
     },
     "metadata": {},
     "output_type": "display_data"
    }
   ],
   "source": [
    "import matplotlib.pyplot as plt\n",
    "\n",
    "# Plot D, G, and W losses\n",
    "plt.plot(D, label='D Loss')\n",
    "plt.plot(G, label='G Loss')\n",
    "plt.plot(W, label='W Loss')\n",
    "\n",
    "# Add labels and title\n",
    "plt.xlabel('Epochs')\n",
    "plt.ylabel('Loss')\n",
    "plt.title('D, G, and W Losses')\n",
    "\n",
    "# Add legend\n",
    "plt.legend()\n",
    "\n",
    "# Show the plot\n",
    "plt.show()\n",
    "import matplotlib.pyplot as plt\n",
    "\n",
    "# Plot D, G, and W losses\n",
    "plt.plot(D, label='D Loss')\n",
    "plt.plot(G, label='G Loss')\n",
    "plt.plot(W, label='W Loss')\n",
    "\n",
    "# Add labels and title\n",
    "plt.xlabel('Epochs')\n",
    "plt.ylabel('Loss')\n",
    "plt.title('D, G, and W Losses')\n",
    "\n",
    "# Add legend\n",
    "plt.legend()\n",
    "\n",
    "# Show the plot\n",
    "plt.show()\n"
   ]
  },
  {
   "cell_type": "code",
   "execution_count": 95,
   "metadata": {},
   "outputs": [
    {
     "data": {
      "text/plain": [
       "0.16562519923023028"
      ]
     },
     "execution_count": 95,
     "metadata": {},
     "output_type": "execute_result"
    }
   ],
   "source": [
    "min(W)"
   ]
  },
  {
   "cell_type": "markdown",
   "metadata": {},
   "source": [
    "### Scenario 1"
   ]
  },
  {
   "cell_type": "code",
   "execution_count": 60,
   "metadata": {},
   "outputs": [],
   "source": [
    "Y_train_1 = Ytrain_test_scenarios[0][0]\n",
    "Y_test_1 = Ytrain_test_scenarios[0][1]"
   ]
  },
  {
   "cell_type": "code",
   "execution_count": 62,
   "metadata": {},
   "outputs": [
    {
     "name": "stdout",
     "output_type": "stream",
     "text": [
      "0.09219582402863064\n",
      "epoches :  400  Latent dim:  30  score :  0.09219582402863064\n",
      "0.09828976003002378\n",
      "epoches :  400  Latent dim:  40  score :  0.09828976003002378\n",
      "0.09913139149259469\n",
      "epoches :  400  Latent dim:  50  score :  0.09913139149259469\n",
      "0.09186695646788666\n",
      "epoches :  600  Latent dim:  30  score :  0.09186695646788666\n",
      "0.07146318420771118\n",
      "epoches :  600  Latent dim:  40  score :  0.07146318420771118\n",
      "0.0828884679908604\n",
      "epoches :  600  Latent dim:  50  score :  0.0828884679908604\n",
      "0.0891897355588675\n",
      "epoches :  800  Latent dim:  30  score :  0.0891897355588675\n",
      "0.08714052502095306\n",
      "epoches :  800  Latent dim:  40  score :  0.08714052502095306\n",
      "0.07563251453032205\n",
      "epoches :  800  Latent dim:  50  score :  0.07563251453032205\n",
      "0.07665045992083966\n",
      "epoches :  1000  Latent dim:  30  score :  0.07665045992083966\n",
      "0.07995722916975562\n",
      "epoches :  1000  Latent dim:  40  score :  0.07995722916975562\n",
      "0.0838582037793444\n",
      "epoches :  1000  Latent dim:  50  score :  0.0838582037793444\n"
     ]
    }
   ],
   "source": [
    "for e in [400,600,800,1000]:\n",
    "    for ld in [30,40,50]:\n",
    "        score = defineandtrain(Y_train_1,Y_test_1,latent_dim=ld, epochs = e, show = False)\n",
    "        print(\"epoches : \", e, \" Latent dim: \",ld, \" score : \",score)"
   ]
  },
  {
   "cell_type": "markdown",
   "metadata": {},
   "source": [
    "    - epoches : 600\n",
    "    - latent dim : 40"
   ]
  },
  {
   "cell_type": "markdown",
   "metadata": {},
   "source": [
    "### Scenario 2"
   ]
  },
  {
   "cell_type": "code",
   "execution_count": 63,
   "metadata": {},
   "outputs": [],
   "source": [
    "Y_train_2 = Ytrain_test_scenarios[1][0]\n",
    "Y_test_2 = Ytrain_test_scenarios[1][1]"
   ]
  },
  {
   "cell_type": "code",
   "execution_count": 64,
   "metadata": {},
   "outputs": [
    {
     "name": "stdout",
     "output_type": "stream",
     "text": [
      "0.08385477681936263\n",
      "epoches :  400  Latent dim:  30  score :  0.08385477681936263\n",
      "0.07713036034760755\n",
      "epoches :  400  Latent dim:  40  score :  0.07713036034760755\n",
      "0.08078360314831519\n",
      "epoches :  400  Latent dim:  50  score :  0.08078360314831519\n",
      "0.07816988372622241\n",
      "epoches :  600  Latent dim:  30  score :  0.07816988372622241\n",
      "0.073632335094\n",
      "epoches :  600  Latent dim:  40  score :  0.073632335094\n",
      "0.07951759294268022\n",
      "epoches :  600  Latent dim:  50  score :  0.07951759294268022\n",
      "0.05788609515396271\n",
      "epoches :  800  Latent dim:  30  score :  0.05788609515396271\n",
      "0.07094620095124572\n",
      "epoches :  800  Latent dim:  40  score :  0.07094620095124572\n",
      "0.07690283228657373\n",
      "epoches :  800  Latent dim:  50  score :  0.07690283228657373\n",
      "0.06704607227654882\n",
      "epoches :  1000  Latent dim:  30  score :  0.06704607227654882\n",
      "0.07641938516598006\n",
      "epoches :  1000  Latent dim:  40  score :  0.07641938516598006\n",
      "0.0708544739155989\n",
      "epoches :  1000  Latent dim:  50  score :  0.0708544739155989\n"
     ]
    }
   ],
   "source": [
    "for e in [400,600,800,1000]:\n",
    "    for ld in [30,40,50]:\n",
    "        score = defineandtrain(Y_train_2,Y_test_2,latent_dim=ld, epochs = e, show = False)\n",
    "        print(\"epoches : \", e, \" Latent dim: \",ld, \" score : \",score)"
   ]
  },
  {
   "cell_type": "markdown",
   "metadata": {},
   "source": [
    "    - epoches : 800\n",
    "    - latent dim : 30"
   ]
  },
  {
   "cell_type": "markdown",
   "metadata": {},
   "source": [
    "### Scenario 3"
   ]
  },
  {
   "cell_type": "code",
   "execution_count": 65,
   "metadata": {},
   "outputs": [],
   "source": [
    "Y_train_3 = Ytrain_test_scenarios[2][0]\n",
    "Y_test_3 = Ytrain_test_scenarios[2][1]"
   ]
  },
  {
   "cell_type": "code",
   "execution_count": 66,
   "metadata": {},
   "outputs": [
    {
     "name": "stdout",
     "output_type": "stream",
     "text": [
      "0.09030068243396155\n",
      "epoches :  400  Latent dim:  30  score :  0.09030068243396155\n",
      "0.09238315335597726\n",
      "epoches :  400  Latent dim:  40  score :  0.09238315335597726\n",
      "0.09511205728969302\n",
      "epoches :  400  Latent dim:  50  score :  0.09511205728969302\n",
      "0.06533310786664884\n",
      "epoches :  600  Latent dim:  30  score :  0.06533310786664884\n",
      "0.06649457283899946\n",
      "epoches :  600  Latent dim:  40  score :  0.06649457283899946\n",
      "0.09374550351498062\n",
      "epoches :  600  Latent dim:  50  score :  0.09374550351498062\n",
      "0.0594328503390956\n",
      "epoches :  800  Latent dim:  30  score :  0.0594328503390956\n",
      "0.06792799058148694\n",
      "epoches :  800  Latent dim:  40  score :  0.06792799058148694\n",
      "0.06168078638839402\n",
      "epoches :  800  Latent dim:  50  score :  0.06168078638839402\n",
      "0.052752989273134904\n",
      "epoches :  1000  Latent dim:  30  score :  0.052752989273134904\n",
      "0.07423459555521453\n",
      "epoches :  1000  Latent dim:  40  score :  0.07423459555521453\n",
      "0.06825004415511192\n",
      "epoches :  1000  Latent dim:  50  score :  0.06825004415511192\n"
     ]
    }
   ],
   "source": [
    "for e in [400,600,800,1000]:\n",
    "    for ld in [30,40,50]:\n",
    "        score = defineandtrain(Y_train_3,Y_test_3,latent_dim=ld, epochs = e, show = False)\n",
    "        print(\"epoches : \", e, \" Latent dim: \",ld, \" score : \",score)"
   ]
  },
  {
   "cell_type": "markdown",
   "metadata": {},
   "source": [
    "    - epoches : 1000\n",
    "    - latent dim : 30"
   ]
  },
  {
   "cell_type": "markdown",
   "metadata": {},
   "source": [
    "### Scenario 4"
   ]
  },
  {
   "cell_type": "code",
   "execution_count": 67,
   "metadata": {},
   "outputs": [],
   "source": [
    "Y_train_4 = Ytrain_test_scenarios[3][0]\n",
    "Y_test_4 = Ytrain_test_scenarios[3][1]"
   ]
  },
  {
   "cell_type": "code",
   "execution_count": 68,
   "metadata": {},
   "outputs": [
    {
     "name": "stdout",
     "output_type": "stream",
     "text": [
      "0.0911532834360376\n",
      "epoches :  400  Latent dim:  30  score :  0.0911532834360376\n",
      "0.09443351275924874\n",
      "epoches :  400  Latent dim:  40  score :  0.09443351275924874\n",
      "0.10900576366192351\n",
      "epoches :  400  Latent dim:  50  score :  0.10900576366192351\n",
      "0.085891599078214\n",
      "epoches :  600  Latent dim:  30  score :  0.085891599078214\n",
      "0.09076895445939753\n",
      "epoches :  600  Latent dim:  40  score :  0.09076895445939753\n",
      "0.08468980604968776\n",
      "epoches :  600  Latent dim:  50  score :  0.08468980604968776\n",
      "0.08483136811942583\n",
      "epoches :  800  Latent dim:  30  score :  0.08483136811942583\n",
      "0.08924407910240016\n",
      "epoches :  800  Latent dim:  40  score :  0.08924407910240016\n",
      "0.08377002778995504\n",
      "epoches :  800  Latent dim:  50  score :  0.08377002778995504\n",
      "0.07651718466044889\n",
      "epoches :  1000  Latent dim:  30  score :  0.07651718466044889\n",
      "0.08710466806934389\n",
      "epoches :  1000  Latent dim:  40  score :  0.08710466806934389\n",
      "0.07991665530856402\n",
      "epoches :  1000  Latent dim:  50  score :  0.07991665530856402\n"
     ]
    }
   ],
   "source": [
    "for e in [400,600,800,1000]:\n",
    "    for ld in [30,40,50]:\n",
    "        score = defineandtrain(Y_train_4,Y_test_4,latent_dim=ld, epochs = e, show = False)\n",
    "        print(\"epoches : \", e, \" Latent dim: \",ld, \" score : \",score)"
   ]
  },
  {
   "cell_type": "markdown",
   "metadata": {},
   "source": [
    "    - epoches : 1000\n",
    "    - latent dim : 30"
   ]
  },
  {
   "cell_type": "markdown",
   "metadata": {},
   "source": [
    "### Scenario 5"
   ]
  },
  {
   "cell_type": "code",
   "execution_count": 69,
   "metadata": {},
   "outputs": [],
   "source": [
    "Y_train_5 = Ytrain_test_scenarios[4][0]\n",
    "Y_test_5 = Ytrain_test_scenarios[4][1]"
   ]
  },
  {
   "cell_type": "code",
   "execution_count": 70,
   "metadata": {},
   "outputs": [
    {
     "name": "stdout",
     "output_type": "stream",
     "text": [
      "0.0846583188065985\n",
      "epoches :  400  Latent dim:  30  score :  0.0846583188065985\n",
      "0.08259868287955711\n",
      "epoches :  400  Latent dim:  40  score :  0.08259868287955711\n",
      "0.08970348724457006\n",
      "epoches :  400  Latent dim:  50  score :  0.08970348724457006\n",
      "0.0599438335855348\n",
      "epoches :  600  Latent dim:  30  score :  0.0599438335855348\n",
      "0.07132630662334559\n",
      "epoches :  600  Latent dim:  40  score :  0.07132630662334559\n",
      "0.06314132942279514\n",
      "epoches :  600  Latent dim:  50  score :  0.06314132942279514\n",
      "0.05146003854352084\n",
      "epoches :  800  Latent dim:  30  score :  0.05146003854352084\n",
      "0.05434474777035995\n",
      "epoches :  800  Latent dim:  40  score :  0.05434474777035995\n",
      "0.051524111773481845\n",
      "epoches :  800  Latent dim:  50  score :  0.051524111773481845\n",
      "0.05342187931440115\n",
      "epoches :  1000  Latent dim:  30  score :  0.05342187931440115\n",
      "0.05718236411828113\n",
      "epoches :  1000  Latent dim:  40  score :  0.05718236411828113\n",
      "0.05963083318465227\n",
      "epoches :  1000  Latent dim:  50  score :  0.05963083318465227\n"
     ]
    }
   ],
   "source": [
    "for e in [400,600,800,1000]:\n",
    "    for ld in [30,40,50]:\n",
    "        score = defineandtrain(Y_train_5,Y_test_5,latent_dim=ld, epochs = e, show = False)\n",
    "        print(\"epoches : \", e, \" Latent dim: \",ld, \" score : \",score)"
   ]
  },
  {
   "cell_type": "markdown",
   "metadata": {},
   "source": [
    "    - epoches : 800\n",
    "    - latent dim : 30"
   ]
  },
  {
   "cell_type": "markdown",
   "metadata": {},
   "source": [
    "### Scenario 6"
   ]
  },
  {
   "cell_type": "code",
   "execution_count": 71,
   "metadata": {},
   "outputs": [],
   "source": [
    "Y_train_6 = Ytrain_test_scenarios[5][0]\n",
    "Y_test_6 = Ytrain_test_scenarios[5][1]"
   ]
  },
  {
   "cell_type": "code",
   "execution_count": 72,
   "metadata": {},
   "outputs": [
    {
     "name": "stdout",
     "output_type": "stream",
     "text": [
      "0.08623699907935882\n",
      "epoches :  400  Latent dim:  30  score :  0.08623699907935882\n",
      "0.07687245535569143\n",
      "epoches :  400  Latent dim:  40  score :  0.07687245535569143\n",
      "0.09979811213691944\n",
      "epoches :  400  Latent dim:  50  score :  0.09979811213691944\n",
      "0.07015582629201712\n",
      "epoches :  600  Latent dim:  30  score :  0.07015582629201712\n",
      "0.0647294331064578\n",
      "epoches :  600  Latent dim:  40  score :  0.0647294331064578\n",
      "0.07284214500635995\n",
      "epoches :  600  Latent dim:  50  score :  0.07284214500635995\n",
      "0.0667024973881862\n",
      "epoches :  800  Latent dim:  30  score :  0.0667024973881862\n",
      "0.06609749503851481\n",
      "epoches :  800  Latent dim:  40  score :  0.06609749503851481\n",
      "0.07308054307985361\n",
      "epoches :  800  Latent dim:  50  score :  0.07308054307985361\n",
      "0.07296749226464234\n",
      "epoches :  1000  Latent dim:  30  score :  0.07296749226464234\n",
      "0.06702523995835369\n",
      "epoches :  1000  Latent dim:  40  score :  0.06702523995835369\n",
      "0.05707709905539644\n",
      "epoches :  1000  Latent dim:  50  score :  0.05707709905539644\n"
     ]
    }
   ],
   "source": [
    "for e in [400,600,800,1000]:\n",
    "    for ld in [30,40,50]:\n",
    "        score = defineandtrain(Y_train_6,Y_test_6,latent_dim=ld, epochs = e, show = False)\n",
    "        print(\"epoches : \", e, \" Latent dim: \",ld, \" score : \",score)"
   ]
  },
  {
   "cell_type": "markdown",
   "metadata": {},
   "source": [
    "    - epoches : 1000\n",
    "    - latent dim : 50"
   ]
  },
  {
   "cell_type": "markdown",
   "metadata": {},
   "source": [
    "### Scenario 7"
   ]
  },
  {
   "cell_type": "code",
   "execution_count": 73,
   "metadata": {},
   "outputs": [],
   "source": [
    "Y_train_7 = Ytrain_test_scenarios[6][0]\n",
    "Y_test_7 = Ytrain_test_scenarios[6][1]"
   ]
  },
  {
   "cell_type": "code",
   "execution_count": 74,
   "metadata": {},
   "outputs": [
    {
     "name": "stdout",
     "output_type": "stream",
     "text": [
      "0.08648721306495256\n",
      "epoches :  400  Latent dim:  30  score :  0.08648721306495256\n",
      "0.09209528533753622\n",
      "epoches :  400  Latent dim:  40  score :  0.09209528533753622\n",
      "0.0920753065190007\n",
      "epoches :  400  Latent dim:  50  score :  0.0920753065190007\n",
      "0.07780328078973232\n",
      "epoches :  600  Latent dim:  30  score :  0.07780328078973232\n",
      "0.06870574663860889\n",
      "epoches :  600  Latent dim:  40  score :  0.06870574663860889\n",
      "0.07058582962974637\n",
      "epoches :  600  Latent dim:  50  score :  0.07058582962974637\n",
      "0.07733149011539425\n",
      "epoches :  800  Latent dim:  30  score :  0.07733149011539425\n",
      "0.06839552747560787\n",
      "epoches :  800  Latent dim:  40  score :  0.06839552747560787\n",
      "0.07296933645147698\n",
      "epoches :  800  Latent dim:  50  score :  0.07296933645147698\n",
      "0.05882673150468816\n",
      "epoches :  1000  Latent dim:  30  score :  0.05882673150468816\n",
      "0.07267540915979057\n",
      "epoches :  1000  Latent dim:  40  score :  0.07267540915979057\n",
      "0.09015301616794119\n",
      "epoches :  1000  Latent dim:  50  score :  0.09015301616794119\n"
     ]
    }
   ],
   "source": [
    "for e in [400,600,800,1000]:\n",
    "    for ld in [30,40,50]:\n",
    "        score = defineandtrain(Y_train_7,Y_test_7,latent_dim=ld, epochs = e, show = False)\n",
    "        print(\"epoches : \", e, \" Latent dim: \",ld, \" score : \",score)"
   ]
  },
  {
   "cell_type": "markdown",
   "metadata": {},
   "source": [
    "    - epoches : 1000\n",
    "    - latent dim : 30"
   ]
  },
  {
   "cell_type": "markdown",
   "metadata": {},
   "source": [
    "### Scenario 8"
   ]
  },
  {
   "cell_type": "code",
   "execution_count": 75,
   "metadata": {},
   "outputs": [],
   "source": [
    "Y_train_8 = Ytrain_test_scenarios[7][0]\n",
    "Y_test_8 = Ytrain_test_scenarios[7][1]"
   ]
  },
  {
   "cell_type": "code",
   "execution_count": 76,
   "metadata": {},
   "outputs": [
    {
     "name": "stdout",
     "output_type": "stream",
     "text": [
      "0.07873319137890203\n",
      "epoches :  400  Latent dim:  30  score :  0.07873319137890203\n",
      "0.07906247134384331\n",
      "epoches :  400  Latent dim:  40  score :  0.07906247134384331\n",
      "0.08190383227500614\n",
      "epoches :  400  Latent dim:  50  score :  0.08190383227500614\n",
      "0.07018064224665889\n",
      "epoches :  600  Latent dim:  30  score :  0.07018064224665889\n",
      "0.06761487451594499\n",
      "epoches :  600  Latent dim:  40  score :  0.06761487451594499\n",
      "0.07544512316765539\n",
      "epoches :  600  Latent dim:  50  score :  0.07544512316765539\n",
      "0.04894551112258868\n",
      "epoches :  800  Latent dim:  30  score :  0.04894551112258868\n",
      "0.0694856506379734\n",
      "epoches :  800  Latent dim:  40  score :  0.0694856506379734\n",
      "0.06594877941918208\n",
      "epoches :  800  Latent dim:  50  score :  0.06594877941918208\n",
      "0.06133016597596706\n",
      "epoches :  1000  Latent dim:  30  score :  0.06133016597596706\n",
      "0.06942501813038725\n",
      "epoches :  1000  Latent dim:  40  score :  0.06942501813038725\n",
      "0.05607657664898077\n",
      "epoches :  1000  Latent dim:  50  score :  0.05607657664898077\n"
     ]
    }
   ],
   "source": [
    "for e in [400,600,800,1000]:\n",
    "    for ld in [30,40,50]:\n",
    "        score = defineandtrain(Y_train_8,Y_test_8,latent_dim=ld, epochs = e, show = False)\n",
    "        print(\"epoches : \", e, \" Latent dim: \",ld, \" score : \",score)"
   ]
  },
  {
   "cell_type": "markdown",
   "metadata": {},
   "source": [
    "    - epoches : 800\n",
    "    - latent dim : 30"
   ]
  },
  {
   "cell_type": "markdown",
   "metadata": {},
   "source": [
    "### Scenario 9"
   ]
  },
  {
   "cell_type": "code",
   "execution_count": 77,
   "metadata": {},
   "outputs": [],
   "source": [
    "Y_train_9 = Ytrain_test_scenarios[8][0]\n",
    "Y_test_9 = Ytrain_test_scenarios[8][1]"
   ]
  },
  {
   "cell_type": "code",
   "execution_count": 78,
   "metadata": {},
   "outputs": [
    {
     "name": "stdout",
     "output_type": "stream",
     "text": [
      "0.09018865329049718\n",
      "epoches :  400  Latent dim:  30  score :  0.09018865329049718\n",
      "0.0947498019278591\n",
      "epoches :  400  Latent dim:  40  score :  0.0947498019278591\n",
      "0.09519300497596772\n",
      "epoches :  400  Latent dim:  50  score :  0.09519300497596772\n",
      "0.06866635890188902\n",
      "epoches :  600  Latent dim:  30  score :  0.06866635890188902\n",
      "0.079044493685103\n",
      "epoches :  600  Latent dim:  40  score :  0.079044493685103\n",
      "0.0736896802244104\n",
      "epoches :  600  Latent dim:  50  score :  0.0736896802244104\n",
      "0.0590783222708873\n",
      "epoches :  800  Latent dim:  30  score :  0.0590783222708873\n",
      "0.06243665682356937\n",
      "epoches :  800  Latent dim:  40  score :  0.06243665682356937\n",
      "0.08597788960497271\n",
      "epoches :  800  Latent dim:  50  score :  0.08597788960497271\n",
      "0.06001666187596352\n",
      "epoches :  1000  Latent dim:  30  score :  0.06001666187596352\n",
      "0.06816824725408495\n",
      "epoches :  1000  Latent dim:  40  score :  0.06816824725408495\n",
      "0.06365260102731865\n",
      "epoches :  1000  Latent dim:  50  score :  0.06365260102731865\n"
     ]
    }
   ],
   "source": [
    "for e in [400,600,800,1000]:\n",
    "    for ld in [30,40,50]:\n",
    "        score = defineandtrain(Y_train_9,Y_test_9,latent_dim=ld, epochs = e, show = False)\n",
    "        print(\"epoches : \", e, \" Latent dim: \",ld, \" score : \",score)"
   ]
  },
  {
   "cell_type": "markdown",
   "metadata": {},
   "source": [
    "    - epoches : 800\n",
    "    - latent dim : 30"
   ]
  },
  {
   "cell_type": "markdown",
   "metadata": {},
   "source": [
    "## results"
   ]
  },
  {
   "cell_type": "code",
   "execution_count": 51,
   "metadata": {},
   "outputs": [],
   "source": [
    "def score(e,ld):\n",
    "    score_scenarios = [[] for i in range(len(Y_corrected_scenarios))]\n",
    "    for i in range(10):\n",
    "        Y_train_test_scenarios = [split(Y_corrected_scenarios[j]) for j in range(len(Y_corrected_scenarios))]\n",
    "        for j in range(len(Y_train_test_scenarios)):\n",
    "            score_scenarios[j].append(defineandtrain(Y_train_test_scenarios[j][0],Y_train_test_scenarios[j][1],latent_dim=ld,epochs=e,show=False))\n",
    "    return [np.mean(score_scenarios[i]) for i in range(len(score_scenarios))]"
   ]
  },
  {
   "cell_type": "code",
   "execution_count": 103,
   "metadata": {},
   "outputs": [
    {
     "name": "stdout",
     "output_type": "stream",
     "text": [
      "[500, 50, 0.04469504432784296]\n"
     ]
    }
   ],
   "source": [
    "res = []\n",
    "for e in [100,500,1000]:\n",
    "    for ld in [30,40,50]:\n",
    "        res.append([e,ld,score(e,ld)])\n",
    "\n",
    "min_score_arg = min(res, key=lambda x: x[2])\n",
    "print(min_score_arg)"
   ]
  },
  {
   "cell_type": "code",
   "execution_count": 108,
   "metadata": {},
   "outputs": [
    {
     "name": "stdout",
     "output_type": "stream",
     "text": [
      "[500, 50, 0.04469504432784296]\n"
     ]
    }
   ],
   "source": [
    "print(min_score_arg)"
   ]
  },
  {
   "cell_type": "code",
   "execution_count": 106,
   "metadata": {},
   "outputs": [
    {
     "data": {
      "image/png": "[encoded data removed]",
      "text/plain": [
       "<Figure size 432x288 with 1 Axes>"
      ]
     },
     "metadata": {
      "needs_background": "light"
     },
     "output_type": "display_data"
    },
    {
     "data": {
      "image/png": "[encoded data removed]",
      "text/plain": [
       "<Figure size 432x288 with 1 Axes>"
      ]
     },
     "metadata": {
      "needs_background": "light"
     },
     "output_type": "display_data"
    },
    {
     "name": "stdout",
     "output_type": "stream",
     "text": [
      "5 0.03772539178204349\n"
     ]
    }
   ],
   "source": [
    "plt.plot(savlossD,label=\"D loss\")\n",
    "plt.plot(savlossG,label=\"G loss\")\n",
    "plt.legend()\n",
    "plt.title(\"D and G losses\")\n",
    "plt.show()\n",
    "plt.plot(savlossW)\n",
    "plt.title(\"Wasserstein distance\")\n",
    "plt.show()\n",
    "\n",
    "print(np.argmin(savlossW),np.min(savlossW))"
   ]
  },
  {
   "cell_type": "markdown",
   "metadata": {},
   "source": [
    "Meilleur sans tanh : 400,40 \n",
    "MIEUX\n",
    "avec : 300,50"
   ]
  },
  {
   "cell_type": "code",
   "execution_count": 112,
   "metadata": {},
   "outputs": [],
   "source": [
    "latent_dim = 50\n",
    "ndim = 4 \n",
    "def getgen(real_data,test,latent_dim=50, epochs = 250):\n",
    "    # Hyperparameters\n",
    "    batch_size = 128\n",
    "\n",
    "    # Generate synthetic 2D data (replace this with your actual data)\n",
    "    nsamples = len(real_data)\n",
    "    ndim = real_data.shape[1]\n",
    "\n",
    "    # Initialize models\n",
    "    generator = Generator(latent_dim, ndim).to(device)\n",
    "    discriminator = Discriminator(ndim).to(device)\n",
    "    gan = GAN(generator, discriminator).to(device)\n",
    "\n",
    "    # Compile models\n",
    "    d_optimizer, d_criterion = compile_discriminator(discriminator)\n",
    "    gan_optimizer, gan_criterion = compile_gan(gan)\n",
    "    run(epochs,real_data,batch_size,latent_dim,generator,d_optimizer,d_criterion,discriminator,gan,gan_optimizer,gan_criterion,test,False)\n",
    "    return generator"
   ]
  },
  {
   "cell_type": "code",
   "execution_count": 110,
   "metadata": {},
   "outputs": [
    {
     "data": {
      "text/plain": [
       "0.04654099741637243"
      ]
     },
     "execution_count": 110,
     "metadata": {},
     "output_type": "execute_result"
    }
   ],
   "source": [
    "score(250,50)"
   ]
  },
  {
   "cell_type": "code",
   "execution_count": 131,
   "metadata": {},
   "outputs": [],
   "source": [
    "Ytrain, Ytest = split(Y_corrected)\n",
    "generator = getgen(Ytrain, Ytest)"
   ]
  },
  {
   "cell_type": "code",
   "execution_count": 152,
   "metadata": {},
   "outputs": [],
   "source": [
    "torch.save(generator.state_dict(), 'parameters/generator_model.pth')"
   ]
  },
  {
   "cell_type": "code",
   "execution_count": 157,
   "metadata": {},
   "outputs": [
    {
     "data": {
      "text/plain": [
       "<All keys matched successfully>"
      ]
     },
     "execution_count": 157,
     "metadata": {},
     "output_type": "execute_result"
    }
   ],
   "source": [
    "# Load the generator model\n",
    "generator = Generator(latent_dim, ndim).to(device)\n",
    "generator.load_state_dict(torch.load('parameters/generator_model.pth'))"
   ]
  },
  {
   "cell_type": "code",
   "execution_count": 158,
   "metadata": {},
   "outputs": [
    {
     "data": {
      "image/png": "[encoded data removed]",
      "text/plain": [
       "<Figure size 432x288 with 1 Axes>"
      ]
     },
     "metadata": {
      "needs_background": "light"
     },
     "output_type": "display_data"
    },
    {
     "name": "stdout",
     "output_type": "stream",
     "text": [
      "0.026444507906081962\n"
     ]
    }
   ],
   "source": [
    "Ysampled, Ysampled2 = train_test_split(Y_corrected, test_size=0.5)\n",
    "\n",
    "plot_generated_data(Ysampled, Ysampled2)\n",
    "print(dist(Ysampled, Ysampled2))"
   ]
  },
  {
   "cell_type": "code",
   "execution_count": 194,
   "metadata": {},
   "outputs": [
    {
     "name": "stdout",
     "output_type": "stream",
     "text": [
      "0.025914887655501682\n"
     ]
    },
    {
     "data": {
      "image/png": "[encoded data removed]",
      "text/plain": [
       "<Figure size 432x288 with 1 Axes>"
      ]
     },
     "metadata": {
      "needs_background": "light"
     },
     "output_type": "display_data"
    }
   ],
   "source": [
    "generated_data = generate_data(generator, 1000, latent_dim)\n",
    "plt.scatter(generated_data[:, 0], generated_data[:, 1])\n",
    "plt.scatter(Y_corrected[:, 0], Y_corrected[:, 1])\n",
    "\n",
    "print(dist(Y_corrected, generated_data))\n"
   ]
  },
  {
   "cell_type": "code",
   "execution_count": 195,
   "metadata": {},
   "outputs": [
    {
     "data": {
      "text/plain": [
       "<matplotlib.collections.PathCollection at 0x25d0f388c70>"
      ]
     },
     "execution_count": 195,
     "metadata": {},
     "output_type": "execute_result"
    },
    {
     "data": {
      "image/png": "[encoded data removed]",
      "text/plain": [
       "<Figure size 432x288 with 1 Axes>"
      ]
     },
     "metadata": {
      "needs_background": "light"
     },
     "output_type": "display_data"
    }
   ],
   "source": [
    "meancorrection = np.array([9.38902,5.36495,3.31693,6.16897])\n",
    "varcorrection = np.array([5.47902, 5.01505, 6.30307, 6.16897])\n",
    "\n",
    "generated_data = generated_data * varcorrection + meancorrection\n",
    "newY = Y_corrected * varcorrection + meancorrection\n",
    "\n",
    "plt.scatter(generated_data[:,0],generated_data[:,1])\n",
    "#plt.scatter(newY[:,0],newY[:,1])\n",
    "plt.scatter(Y[:,0],Y[:,1])"
   ]
  },
  {
   "cell_type": "code",
   "execution_count": 197,
   "metadata": {},
   "outputs": [
    {
     "data": {
      "text/plain": [
       "0.1503746770682202"
      ]
     },
     "execution_count": 197,
     "metadata": {},
     "output_type": "execute_result"
    }
   ],
   "source": [
    "dist(Y,generated_data)"
   ]
  },
  {
   "cell_type": "code",
   "execution_count": 199,
   "metadata": {},
   "outputs": [
    {
     "data": {
      "image/png": "[encoded data removed]",
      "text/plain": [
       "<Figure size 432x288 with 1 Axes>"
      ]
     },
     "metadata": {
      "needs_background": "light"
     },
     "output_type": "display_data"
    },
    {
     "name": "stdout",
     "output_type": "stream",
     "text": [
      "0.17385533826330363\n"
     ]
    }
   ],
   "source": [
    "Ysampled, Ysampled2 = train_test_split(Y, test_size=0.5)\n",
    "\n",
    "plot_generated_data(Ysampled, Ysampled2)\n",
    "print(dist(Ysampled, Ysampled2))"
   ]
  },
  {
   "cell_type": "code",
   "execution_count": 47,
   "metadata": {},
   "outputs": [
    {
     "data": {
      "image/png": "[encoded data removed]",
      "text/plain": [
       "<Figure size 432x288 with 1 Axes>"
      ]
     },
     "metadata": {
      "needs_background": "light"
     },
     "output_type": "display_data"
    },
    {
     "name": "stdout",
     "output_type": "stream",
     "text": [
      "0.03930142779007523\n"
     ]
    }
   ],
   "source": [
    "generated_data = generate_data(generator, 250, latent_dim)\n",
    "plot_generated_data(KMtest, generated_data)\n",
    "print(dist(KMtest[:,-4:], generated_data[:,-4:]))"
   ]
  },
  {
   "cell_type": "code",
   "execution_count": 346,
   "metadata": {},
   "outputs": [
    {
     "data": {
      "image/png": "[encoded data removed]",
      "text/plain": [
       "<Figure size 720x576 with 4 Axes>"
      ]
     },
     "metadata": {
      "needs_background": "light"
     },
     "output_type": "display_data"
    }
   ],
   "source": [
    "fig, axs = plt.subplots(2, 2, figsize=(10, 8))\n",
    "\n",
    "axs[0, 0].hist(Y[:, 0], bins=20,alpha=0.5)\n",
    "axs[0, 0].hist(gendata_corrected[:, 0], bins=20,alpha=0.5)\n",
    "axs[0, 0].set_title('Histogram of Y[:, 0]')\n",
    "\n",
    "axs[0, 1].hist(Y[:, 1], bins=20,alpha=0.5)\n",
    "axs[0, 1].hist(gendata_corrected[:, 1], bins=20,alpha=0.5)\n",
    "axs[0, 1].set_title('Histogram of Y[:, 1]')\n",
    "\n",
    "axs[1, 0].hist(Y[:, 2], bins=20,alpha=0.5)\n",
    "axs[1, 0].hist(gendata_corrected[:, 2], bins=20,alpha=0.5)\n",
    "axs[1, 0].set_title('Histogram of Y[:, 2]')\n",
    "\n",
    "axs[1, 1].hist(Y[:, 3], bins=20,alpha=0.5)\n",
    "axs[1, 1].hist(gendata_corrected[:, 3], bins=20,alpha=0.5)\n",
    "axs[1, 1].set_title('Histogram of Y[:, 3]')\n",
    "\n",
    "plt.tight_layout()\n",
    "plt.show()"
   ]
  },
  {
   "cell_type": "markdown",
   "metadata": {},
   "source": [
    "# LOSS"
   ]
  },
  {
   "cell_type": "code",
   "execution_count": 90,
   "metadata": {},
   "outputs": [
    {
     "data": {
      "image/png": "[encoded data removed]",
      "text/plain": [
       "<Figure size 432x288 with 1 Axes>"
      ]
     },
     "metadata": {
      "needs_background": "light"
     },
     "output_type": "display_data"
    }
   ],
   "source": [
    "n = len(Y)\n",
    "n_seed = 20\n",
    "n_projections_arr = np.logspace(0, 3, 10, dtype=int)\n",
    "res = np.empty((n_seed, 10))\n",
    "\n",
    "a, b = np.ones((n,)) / n, np.ones((n,)) / n  # uniform distribution on samples\n",
    "\n",
    "for seed in range(n_seed):\n",
    "    for i, n_projections in enumerate(n_projections_arr):\n",
    "        res[seed, i] = ot.sliced_wasserstein_distance(Y, gendata_corrected, a, b, n_projections, seed=seed)\n",
    "\n",
    "res_mean = np.mean(res, axis=0)\n",
    "res_std = np.std(res, axis=0)\n",
    "\n",
    "plt.figure(2)\n",
    "plt.plot(n_projections_arr, res_mean, label=\"SWD\")\n",
    "plt.fill_between(n_projections_arr, res_mean - 2 * res_std, res_mean + 2 * res_std, alpha=0.5)\n",
    "\n",
    "plt.legend()\n",
    "plt.xscale('log')\n",
    "\n",
    "plt.xlabel(\"Number of projections\")\n",
    "plt.ylabel(\"Distance\")\n",
    "plt.title('Sliced Wasserstein Distance with 95% confidence interval')\n",
    "\n",
    "plt.show()"
   ]
  },
  {
   "cell_type": "code",
   "execution_count": null,
   "metadata": {},
   "outputs": [],
   "source": []
  }
 ],
 "metadata": {
  "kernelspec": {
   "display_name": "Python 3",
   "language": "python",
   "name": "python3"
  },
  "language_info": {
   "codemirror_mode": {
    "name": "ipython",
    "version": 3
   },
   "file_extension": ".py",
   "mimetype": "text/x-python",
   "name": "python",
   "nbconvert_exporter": "python",
   "pygments_lexer": "ipython3",
   "version": "3.11.4"
  }
 },
 "nbformat": 4,
 "nbformat_minor": 2
}
